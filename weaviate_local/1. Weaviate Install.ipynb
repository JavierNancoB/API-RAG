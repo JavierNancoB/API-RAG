{
 "cells": [
  {
   "cell_type": "code",
   "execution_count": 2,
   "id": "dee1b16e-821c-4cfa-9931-eca9bc004814",
   "metadata": {},
   "outputs": [
    {
     "name": "stdout",
     "output_type": "stream",
     "text": [
      "Collecting weaviate-client\n",
      "  Downloading weaviate_client-4.14.4-py3-none-any.whl.metadata (3.7 kB)\n",
      "Requirement already satisfied: httpx<0.29.0,>=0.26.0 in c:\\users\\javie\\appdata\\local\\programs\\python\\python311\\lib\\site-packages (from weaviate-client) (0.28.1)\n",
      "Collecting validators==0.34.0 (from weaviate-client)\n",
      "  Downloading validators-0.34.0-py3-none-any.whl.metadata (3.8 kB)\n",
      "Collecting authlib<1.3.2,>=1.2.1 (from weaviate-client)\n",
      "  Downloading Authlib-1.3.1-py2.py3-none-any.whl.metadata (3.8 kB)\n",
      "Requirement already satisfied: pydantic<3.0.0,>=2.8.0 in c:\\users\\javie\\appdata\\local\\programs\\python\\python311\\lib\\site-packages (from weaviate-client) (2.10.5)\n",
      "Requirement already satisfied: grpcio<2.0.0,>=1.66.2 in c:\\users\\javie\\appdata\\local\\programs\\python\\python311\\lib\\site-packages (from weaviate-client) (1.70.0)\n",
      "Collecting grpcio-tools<2.0.0,>=1.66.2 (from weaviate-client)\n",
      "  Downloading grpcio_tools-1.71.0-cp311-cp311-win_amd64.whl.metadata (5.5 kB)\n",
      "Collecting grpcio-health-checking<2.0.0,>=1.66.2 (from weaviate-client)\n",
      "  Downloading grpcio_health_checking-1.71.0-py3-none-any.whl.metadata (1.0 kB)\n",
      "Collecting deprecation<3.0.0,>=2.1.0 (from weaviate-client)\n",
      "  Downloading deprecation-2.1.0-py2.py3-none-any.whl.metadata (4.6 kB)\n",
      "Requirement already satisfied: cryptography in c:\\users\\javie\\appdata\\local\\programs\\python\\python311\\lib\\site-packages (from authlib<1.3.2,>=1.2.1->weaviate-client) (44.0.0)\n",
      "Requirement already satisfied: packaging in c:\\users\\javie\\appdata\\local\\programs\\python\\python311\\lib\\site-packages (from deprecation<3.0.0,>=2.1.0->weaviate-client) (24.2)\n",
      "Requirement already satisfied: protobuf<6.0dev,>=5.26.1 in c:\\users\\javie\\appdata\\local\\programs\\python\\python311\\lib\\site-packages (from grpcio-health-checking<2.0.0,>=1.66.2->weaviate-client) (5.29.3)\n",
      "Collecting grpcio<2.0.0,>=1.66.2 (from weaviate-client)\n",
      "  Downloading grpcio-1.71.0-cp311-cp311-win_amd64.whl.metadata (4.0 kB)\n",
      "Requirement already satisfied: setuptools in c:\\users\\javie\\appdata\\local\\programs\\python\\python311\\lib\\site-packages (from grpcio-tools<2.0.0,>=1.66.2->weaviate-client) (65.5.0)\n",
      "Requirement already satisfied: anyio in c:\\users\\javie\\appdata\\local\\programs\\python\\python311\\lib\\site-packages (from httpx<0.29.0,>=0.26.0->weaviate-client) (4.8.0)\n",
      "Requirement already satisfied: certifi in c:\\users\\javie\\appdata\\local\\programs\\python\\python311\\lib\\site-packages (from httpx<0.29.0,>=0.26.0->weaviate-client) (2024.8.30)\n",
      "Requirement already satisfied: httpcore==1.* in c:\\users\\javie\\appdata\\local\\programs\\python\\python311\\lib\\site-packages (from httpx<0.29.0,>=0.26.0->weaviate-client) (1.0.7)\n",
      "Requirement already satisfied: idna in c:\\users\\javie\\appdata\\local\\programs\\python\\python311\\lib\\site-packages (from httpx<0.29.0,>=0.26.0->weaviate-client) (3.10)\n",
      "Requirement already satisfied: h11<0.15,>=0.13 in c:\\users\\javie\\appdata\\local\\programs\\python\\python311\\lib\\site-packages (from httpcore==1.*->httpx<0.29.0,>=0.26.0->weaviate-client) (0.14.0)\n",
      "Requirement already satisfied: annotated-types>=0.6.0 in c:\\users\\javie\\appdata\\local\\programs\\python\\python311\\lib\\site-packages (from pydantic<3.0.0,>=2.8.0->weaviate-client) (0.7.0)\n",
      "Requirement already satisfied: pydantic-core==2.27.2 in c:\\users\\javie\\appdata\\local\\programs\\python\\python311\\lib\\site-packages (from pydantic<3.0.0,>=2.8.0->weaviate-client) (2.27.2)\n",
      "Requirement already satisfied: typing-extensions>=4.12.2 in c:\\users\\javie\\appdata\\local\\programs\\python\\python311\\lib\\site-packages (from pydantic<3.0.0,>=2.8.0->weaviate-client) (4.12.2)\n",
      "Requirement already satisfied: sniffio>=1.1 in c:\\users\\javie\\appdata\\local\\programs\\python\\python311\\lib\\site-packages (from anyio->httpx<0.29.0,>=0.26.0->weaviate-client) (1.3.1)\n",
      "Requirement already satisfied: cffi>=1.12 in c:\\users\\javie\\appdata\\local\\programs\\python\\python311\\lib\\site-packages (from cryptography->authlib<1.3.2,>=1.2.1->weaviate-client) (1.17.1)\n",
      "Requirement already satisfied: pycparser in c:\\users\\javie\\appdata\\local\\programs\\python\\python311\\lib\\site-packages (from cffi>=1.12->cryptography->authlib<1.3.2,>=1.2.1->weaviate-client) (2.22)\n",
      "Downloading weaviate_client-4.14.4-py3-none-any.whl (437 kB)\n",
      "Downloading validators-0.34.0-py3-none-any.whl (43 kB)\n",
      "Downloading Authlib-1.3.1-py2.py3-none-any.whl (223 kB)\n",
      "Downloading deprecation-2.1.0-py2.py3-none-any.whl (11 kB)\n",
      "Downloading grpcio_health_checking-1.71.0-py3-none-any.whl (18 kB)\n",
      "Downloading grpcio-1.71.0-cp311-cp311-win_amd64.whl (4.3 MB)\n",
      "   ---------------------------------------- 0.0/4.3 MB ? eta -:--:--\n",
      "   ---------------------------------------- 4.3/4.3 MB 23.4 MB/s eta 0:00:00\n",
      "Downloading grpcio_tools-1.71.0-cp311-cp311-win_amd64.whl (1.1 MB)\n",
      "   ---------------------------------------- 0.0/1.1 MB ? eta -:--:--\n",
      "   ---------------------------------------- 1.1/1.1 MB 53.7 MB/s eta 0:00:00\n",
      "Installing collected packages: validators, grpcio, deprecation, grpcio-tools, grpcio-health-checking, authlib, weaviate-client\n",
      "  Attempting uninstall: grpcio\n",
      "    Found existing installation: grpcio 1.70.0\n",
      "    Uninstalling grpcio-1.70.0:\n",
      "      Successfully uninstalled grpcio-1.70.0\n",
      "Successfully installed authlib-1.3.1 deprecation-2.1.0 grpcio-1.71.0 grpcio-health-checking-1.71.0 grpcio-tools-1.71.0 validators-0.34.0 weaviate-client-4.14.4\n"
     ]
    },
    {
     "name": "stderr",
     "output_type": "stream",
     "text": [
      "ERROR: pip's dependency resolver does not currently take into account all the packages that are installed. This behaviour is the source of the following dependency conflicts.\n",
      "tensorflow-intel 2.18.0 requires ml-dtypes<0.5.0,>=0.4.0, but you have ml-dtypes 0.5.1 which is incompatible.\n",
      "tensorflow-intel 2.18.0 requires tensorboard<2.19,>=2.18, but you have tensorboard 2.19.0 which is incompatible.\n",
      "\n",
      "[notice] A new release of pip is available: 25.0.1 -> 25.1.1\n",
      "[notice] To update, run: python.exe -m pip install --upgrade pip\n"
     ]
    }
   ],
   "source": [
    "!pip install -U weaviate-client"
   ]
  },
  {
   "cell_type": "code",
   "execution_count": 1,
   "id": "8507f56e-5167-4856-8c42-c078dd7dd9c9",
   "metadata": {},
   "outputs": [
    {
     "name": "stdout",
     "output_type": "stream",
     "text": [
      "Versión del cliente de Weaviate: 4.14.4\n"
     ]
    }
   ],
   "source": [
    "import weaviate\n",
    "print(f\"Versión del cliente de Weaviate: {weaviate.__version__}\")\n",
    "\n"
   ]
  }
 ],
 "metadata": {
  "kernelspec": {
   "display_name": "Python 3",
   "language": "python",
   "name": "python3"
  },
  "language_info": {
   "codemirror_mode": {
    "name": "ipython",
    "version": 3
   },
   "file_extension": ".py",
   "mimetype": "text/x-python",
   "name": "python",
   "nbconvert_exporter": "python",
   "pygments_lexer": "ipython3",
   "version": "3.11.9"
  }
 },
 "nbformat": 4,
 "nbformat_minor": 5
}
